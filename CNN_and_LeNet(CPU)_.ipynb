{
  "nbformat": 4,
  "nbformat_minor": 0,
  "metadata": {
    "colab": {
      "name": "CNN and LeNet(CPU) .ipynb",
      "provenance": [],
      "collapsed_sections": [],
      "include_colab_link": true
    },
    "kernelspec": {
      "name": "python3",
      "display_name": "Python 3"
    }
  },
  "cells": [
    {
      "cell_type": "markdown",
      "metadata": {
        "id": "view-in-github",
        "colab_type": "text"
      },
      "source": [
        "<a href=\"https://colab.research.google.com/github/deepthi18/Image-Classification-CIFAR10/blob/master/CNN_and_LeNet(CPU)_.ipynb\" target=\"_parent\"><img src=\"https://colab.research.google.com/assets/colab-badge.svg\" alt=\"Open In Colab\"/></a>"
      ]
    },
    {
      "cell_type": "code",
      "metadata": {
        "id": "ZveaOOc3hsR8",
        "colab_type": "code",
        "colab": {}
      },
      "source": [
        "import matplotlib.pyplot as plt\n",
        "import numpy as np\n",
        "import torch"
      ],
      "execution_count": 0,
      "outputs": []
    },
    {
      "cell_type": "code",
      "metadata": {
        "id": "OphhIENghxSd",
        "colab_type": "code",
        "outputId": "25986ea9-3dc2-46d4-9c88-a0264900ca9f",
        "colab": {
          "base_uri": "https://localhost:8080/",
          "height": 33
        }
      },
      "source": [
        "import torchvision \n",
        "import torchvision.transforms as transforms\n",
        "trainset=torchvision.datasets.CIFAR10(root=\"./data\",train=True,download=True,transform=transforms.ToTensor())"
      ],
      "execution_count": 2,
      "outputs": [
        {
          "output_type": "stream",
          "text": [
            "Files already downloaded and verified\n"
          ],
          "name": "stdout"
        }
      ]
    },
    {
      "cell_type": "code",
      "metadata": {
        "id": "UBGRtBZNiSrW",
        "colab_type": "code",
        "outputId": "4f9ecc55-16da-4901-e11e-80d99967be16",
        "colab": {
          "base_uri": "https://localhost:8080/",
          "height": 82
        }
      },
      "source": [
        "trainset"
      ],
      "execution_count": 3,
      "outputs": [
        {
          "output_type": "execute_result",
          "data": {
            "text/plain": [
              "Dataset CIFAR10\n",
              "    Number of datapoints: 50000\n",
              "    Root location: ./data\n",
              "    Split: Train"
            ]
          },
          "metadata": {
            "tags": []
          },
          "execution_count": 3
        }
      ]
    },
    {
      "cell_type": "code",
      "metadata": {
        "id": "T_AblUauK6JM",
        "colab_type": "code",
        "colab": {}
      },
      "source": [
        "classes=(\"plane\",\"car\",\"bird\",\"cat\",\"deer\",\"dog\",\"frog\",\"horse\",\"ship\",\"truck\")"
      ],
      "execution_count": 0,
      "outputs": []
    },
    {
      "cell_type": "code",
      "metadata": {
        "id": "5Mz8IPnuasHB",
        "colab_type": "code",
        "colab": {}
      },
      "source": [
        "trainloader=torch.utils.data.DataLoader(trainset,batch_size=4,shuffle=True)"
      ],
      "execution_count": 0,
      "outputs": []
    },
    {
      "cell_type": "code",
      "metadata": {
        "id": "xq4txdtVa4tR",
        "colab_type": "code",
        "outputId": "2206a9c8-032c-4ff0-948b-1cce5a869df7",
        "colab": {
          "base_uri": "https://localhost:8080/",
          "height": 82
        }
      },
      "source": [
        "dataiter=iter(trainloader)\n",
        "images,labels=dataiter.next()\n",
        "print(images.shape)\n",
        "print(images[0].shape)\n",
        "print(labels[0].shape)\n",
        "print(labels.shape)"
      ],
      "execution_count": 6,
      "outputs": [
        {
          "output_type": "stream",
          "text": [
            "torch.Size([4, 3, 32, 32])\n",
            "torch.Size([3, 32, 32])\n",
            "torch.Size([])\n",
            "torch.Size([4])\n"
          ],
          "name": "stdout"
        }
      ]
    },
    {
      "cell_type": "code",
      "metadata": {
        "id": "rwr1_qTdbMjd",
        "colab_type": "code",
        "outputId": "25686dd3-4a08-4543-f2da-fee52778323b",
        "colab": {
          "base_uri": "https://localhost:8080/",
          "height": 33
        }
      },
      "source": [
        "print(type(images[0]))"
      ],
      "execution_count": 7,
      "outputs": [
        {
          "output_type": "stream",
          "text": [
            "<class 'torch.Tensor'>\n"
          ],
          "name": "stdout"
        }
      ]
    },
    {
      "cell_type": "code",
      "metadata": {
        "id": "vyCSgRxsbXga",
        "colab_type": "code",
        "colab": {}
      },
      "source": [
        "img=images[0]\n"
      ],
      "execution_count": 0,
      "outputs": []
    },
    {
      "cell_type": "code",
      "metadata": {
        "id": "TmDHF5sPi9iN",
        "colab_type": "code",
        "colab": {}
      },
      "source": [
        "npimg=img.numpy()"
      ],
      "execution_count": 0,
      "outputs": []
    },
    {
      "cell_type": "code",
      "metadata": {
        "id": "PhLNXPzsjFxF",
        "colab_type": "code",
        "outputId": "29817f52-1136-48f7-f804-b758a3a149c6",
        "colab": {
          "base_uri": "https://localhost:8080/",
          "height": 33
        }
      },
      "source": [
        "npimg.shape"
      ],
      "execution_count": 10,
      "outputs": [
        {
          "output_type": "execute_result",
          "data": {
            "text/plain": [
              "(3, 32, 32)"
            ]
          },
          "metadata": {
            "tags": []
          },
          "execution_count": 10
        }
      ]
    },
    {
      "cell_type": "code",
      "metadata": {
        "id": "0p1VCNszjGv0",
        "colab_type": "code",
        "colab": {}
      },
      "source": [
        "npimg=np.transpose(npimg,(1,2,0))"
      ],
      "execution_count": 0,
      "outputs": []
    },
    {
      "cell_type": "code",
      "metadata": {
        "id": "5Kpbd1eZjL40",
        "colab_type": "code",
        "outputId": "e085dea3-5ce4-49f9-cb32-8cf12524a230",
        "colab": {
          "base_uri": "https://localhost:8080/",
          "height": 33
        }
      },
      "source": [
        "print(npimg.shape)"
      ],
      "execution_count": 12,
      "outputs": [
        {
          "output_type": "stream",
          "text": [
            "(32, 32, 3)\n"
          ],
          "name": "stdout"
        }
      ]
    },
    {
      "cell_type": "code",
      "metadata": {
        "id": "6OMFHc3ljP9s",
        "colab_type": "code",
        "outputId": "e5de0854-49b8-4124-9b48-b5516f7d4a53",
        "colab": {
          "base_uri": "https://localhost:8080/",
          "height": 50
        }
      },
      "source": [
        "plt.figure(figsize=(1,1))"
      ],
      "execution_count": 13,
      "outputs": [
        {
          "output_type": "execute_result",
          "data": {
            "text/plain": [
              "<Figure size 72x72 with 0 Axes>"
            ]
          },
          "metadata": {
            "tags": []
          },
          "execution_count": 13
        },
        {
          "output_type": "display_data",
          "data": {
            "text/plain": [
              "<Figure size 72x72 with 0 Axes>"
            ]
          },
          "metadata": {
            "tags": []
          }
        }
      ]
    },
    {
      "cell_type": "code",
      "metadata": {
        "id": "oROXB7u2jU9g",
        "colab_type": "code",
        "outputId": "165dc43c-1235-400f-9529-385ca4e262c7",
        "colab": {
          "base_uri": "https://localhost:8080/",
          "height": 268
        }
      },
      "source": [
        "plt.imshow(npimg)\n",
        "plt.show()"
      ],
      "execution_count": 14,
      "outputs": [
        {
          "output_type": "display_data",
          "data": {
            "image/png": "[encoded data removed]",
            "text/plain": [
              "<Figure size 432x288 with 1 Axes>"
            ]
          },
          "metadata": {
            "tags": []
          }
        }
      ]
    },
    {
      "cell_type": "code",
      "metadata": {
        "id": "pq11K5aWj0qh",
        "colab_type": "code",
        "colab": {}
      },
      "source": [
        "#imshow overriding\n",
        "def imshow(img):\n",
        "  npimg=img.numpy()\n",
        "  npimg=np.transpose(npimg,(1,2,0))\n",
        "  plt.figure(figsize=(1,1))\n",
        "  plt.imshow(npimg)\n",
        "  plt.show()"
      ],
      "execution_count": 0,
      "outputs": []
    },
    {
      "cell_type": "code",
      "metadata": {
        "id": "J3p5eI2zkbZx",
        "colab_type": "code",
        "outputId": "19337a18-8aa6-4ed0-fb1d-fbdb5b26cf2b",
        "colab": {
          "base_uri": "https://localhost:8080/",
          "height": 106
        }
      },
      "source": [
        "imshow(images[3])"
      ],
      "execution_count": 16,
      "outputs": [
        {
          "output_type": "display_data",
          "data": {
            "image/png": "[encoded data removed]",
            "text/plain": [
              "<Figure size 72x72 with 1 Axes>"
            ]
          },
          "metadata": {
            "tags": []
          }
        }
      ]
    },
    {
      "cell_type": "code",
      "metadata": {
        "id": "VRyQdYAukdXc",
        "colab_type": "code",
        "outputId": "b546e554-1bd5-43a0-990c-87feecdca274",
        "colab": {
          "base_uri": "https://localhost:8080/",
          "height": 82
        }
      },
      "source": [
        "imshow(torchvision.utils.make_grid(images))\n",
        "print(\" \".join(classes[labels[j]] for j in range(4)))"
      ],
      "execution_count": 17,
      "outputs": [
        {
          "output_type": "display_data",
          "data": {
            "image/png": "[encoded data removed]",
            "text/plain": [
              "<Figure size 72x72 with 1 Axes>"
            ]
          },
          "metadata": {
            "tags": []
          }
        },
        {
          "output_type": "stream",
          "text": [
            "cat deer truck cat\n"
          ],
          "name": "stdout"
        }
      ]
    },
    {
      "cell_type": "code",
      "metadata": {
        "id": "e3jIdD6IlEcC",
        "colab_type": "code",
        "colab": {}
      },
      "source": [
        "#single convolutional network\n",
        "import torch.nn as nn\n",
        "class FirstCNN(nn.Module):\n",
        "  def __init__(self):\n",
        "    super(FirstCNN,self).__init__()\n",
        "    self.conv1=nn.Conv2d(3,16,3)#padding=(1,1) stride=(2,2)\n",
        "    \n",
        "  def forward(self,x):\n",
        "    x=self.conv1(x)\n",
        "    return x\n",
        "    \n",
        "    \n",
        "  "
      ],
      "execution_count": 0,
      "outputs": []
    },
    {
      "cell_type": "code",
      "metadata": {
        "id": "t8bmsbXUlNEl",
        "colab_type": "code",
        "colab": {}
      },
      "source": [
        "net=FirstCNN()"
      ],
      "execution_count": 0,
      "outputs": []
    },
    {
      "cell_type": "code",
      "metadata": {
        "id": "I5VG_CM9lRLH",
        "colab_type": "code",
        "colab": {}
      },
      "source": [
        "out=net(images)"
      ],
      "execution_count": 0,
      "outputs": []
    },
    {
      "cell_type": "code",
      "metadata": {
        "id": "9AqSK1zvl7Xk",
        "colab_type": "code",
        "outputId": "6a823de1-9002-4470-8bd9-c85c67f306b3",
        "colab": {
          "base_uri": "https://localhost:8080/",
          "height": 33
        }
      },
      "source": [
        "out.shape\n"
      ],
      "execution_count": 21,
      "outputs": [
        {
          "output_type": "execute_result",
          "data": {
            "text/plain": [
              "torch.Size([4, 16, 30, 30])"
            ]
          },
          "metadata": {
            "tags": []
          },
          "execution_count": 21
        }
      ]
    },
    {
      "cell_type": "code",
      "metadata": {
        "id": "1xY1EuzWmEur",
        "colab_type": "code",
        "outputId": "8d0ef09f-6f51-4592-8ccc-bec747b28411",
        "colab": {
          "base_uri": "https://localhost:8080/",
          "height": 50
        }
      },
      "source": [
        "for params in net.parameters():\n",
        "  print(params.shape)"
      ],
      "execution_count": 22,
      "outputs": [
        {
          "output_type": "stream",
          "text": [
            "torch.Size([16, 3, 3, 3])\n",
            "torch.Size([16])\n"
          ],
          "name": "stdout"
        }
      ]
    },
    {
      "cell_type": "code",
      "metadata": {
        "id": "Bjh04T_KmeeW",
        "colab_type": "code",
        "outputId": "340ee405-4158-4bfd-90da-8c0aa15263f6",
        "colab": {
          "base_uri": "https://localhost:8080/",
          "height": 33
        }
      },
      "source": [
        "out1=out[0,0,:,:].detach().numpy()\n",
        "print(out1.shape)\n"
      ],
      "execution_count": 23,
      "outputs": [
        {
          "output_type": "stream",
          "text": [
            "(30, 30)\n"
          ],
          "name": "stdout"
        }
      ]
    },
    {
      "cell_type": "code",
      "metadata": {
        "id": "bzf99wb4mOIm",
        "colab_type": "code",
        "outputId": "801150ef-4dc4-4e32-9543-ad376de678aa",
        "colab": {
          "base_uri": "https://localhost:8080/",
          "height": 268
        }
      },
      "source": [
        "plt.imshow(out1)\n",
        "plt.show()"
      ],
      "execution_count": 24,
      "outputs": [
        {
          "output_type": "display_data",
          "data": {
            "image/png": "[encoded data removed]",
            "text/plain": [
              "<Figure size 432x288 with 1 Axes>"
            ]
          },
          "metadata": {
            "tags": []
          }
        }
      ]
    },
    {
      "cell_type": "code",
      "metadata": {
        "id": "3PxoGZCZmxAX",
        "colab_type": "code",
        "colab": {}
      },
      "source": [
        "#deep cnn\n",
        "class FirstCNN_v2(nn.Module):\n",
        "  def __init__(self):\n",
        "    super(FirstCNN_v2,self).__init__()\n",
        "    self.conv1=nn.Sequential(nn.Conv2d(3,8,3),nn.Conv2d(8,16,3))#padding=(1,1) stride=(2,2)\n",
        "    \n",
        "  def forward(self,x):\n",
        "    x=self.conv1(x)\n",
        "    return x\n",
        "    \n"
      ],
      "execution_count": 0,
      "outputs": []
    },
    {
      "cell_type": "code",
      "metadata": {
        "id": "avCbp6Oo4_q2",
        "colab_type": "code",
        "colab": {}
      },
      "source": [
        "net2=FirstCNN_v2()"
      ],
      "execution_count": 0,
      "outputs": []
    },
    {
      "cell_type": "code",
      "metadata": {
        "id": "HrFZWQ6E5I_T",
        "colab_type": "code",
        "colab": {}
      },
      "source": [
        "out1=net2(images)"
      ],
      "execution_count": 0,
      "outputs": []
    },
    {
      "cell_type": "code",
      "metadata": {
        "id": "LlNh-Dut5M-Q",
        "colab_type": "code",
        "outputId": "34d4d0f5-5e8a-48c9-d993-adf09de50712",
        "colab": {
          "base_uri": "https://localhost:8080/",
          "height": 33
        }
      },
      "source": [
        "out1.shape"
      ],
      "execution_count": 28,
      "outputs": [
        {
          "output_type": "execute_result",
          "data": {
            "text/plain": [
              "torch.Size([4, 16, 28, 28])"
            ]
          },
          "metadata": {
            "tags": []
          },
          "execution_count": 28
        }
      ]
    },
    {
      "cell_type": "code",
      "metadata": {
        "id": "IKVV5Xa45PkZ",
        "colab_type": "code",
        "outputId": "fe0a9498-d501-4639-cb16-9c1f09ba4e99",
        "colab": {
          "base_uri": "https://localhost:8080/",
          "height": 285
        }
      },
      "source": [
        "out11=out1[0,0,:,:].detach().numpy()\n",
        "plt.imshow(out11)\n",
        "plt.show"
      ],
      "execution_count": 29,
      "outputs": [
        {
          "output_type": "execute_result",
          "data": {
            "text/plain": [
              "<function matplotlib.pyplot.show>"
            ]
          },
          "metadata": {
            "tags": []
          },
          "execution_count": 29
        },
        {
          "output_type": "display_data",
          "data": {
            "image/png": "[encoded data removed]",
            "text/plain": [
              "<Figure size 432x288 with 1 Axes>"
            ]
          },
          "metadata": {
            "tags": []
          }
        }
      ]
    },
    {
      "cell_type": "code",
      "metadata": {
        "id": "SlBzkixa5Y4W",
        "colab_type": "code",
        "colab": {}
      },
      "source": [
        "class FirstCNN_v3(nn.Module):\n",
        "  def __init__(self):\n",
        "    super(FirstCNN_v3,self).__init__()\n",
        "    self.conv1=nn.Sequential(nn.Conv2d(3,6,5),\n",
        "                             nn.AvgPool2d(2,stride=2),\n",
        "                             nn.Conv2d(6,16,5),\n",
        "                            nn.AvgPool2d(2,stride=2))#padding=(1,1) stride=(2,2)\n",
        "    \n",
        "  def forward(self,x):\n",
        "    x=self.conv1(x)\n",
        "    return x"
      ],
      "execution_count": 0,
      "outputs": []
    },
    {
      "cell_type": "code",
      "metadata": {
        "id": "z0SeSjYD6GGl",
        "colab_type": "code",
        "colab": {}
      },
      "source": [
        "net3=FirstCNN_v3()"
      ],
      "execution_count": 0,
      "outputs": []
    },
    {
      "cell_type": "code",
      "metadata": {
        "id": "A48ZPTOT6Nwg",
        "colab_type": "code",
        "colab": {}
      },
      "source": [
        "out3=net3(images)"
      ],
      "execution_count": 0,
      "outputs": []
    },
    {
      "cell_type": "code",
      "metadata": {
        "id": "nG-v8LVx6QDP",
        "colab_type": "code",
        "outputId": "716c62ce-7e08-4b24-ac8f-32033dc484f9",
        "colab": {
          "base_uri": "https://localhost:8080/",
          "height": 33
        }
      },
      "source": [
        "out3.shape"
      ],
      "execution_count": 33,
      "outputs": [
        {
          "output_type": "execute_result",
          "data": {
            "text/plain": [
              "torch.Size([4, 16, 5, 5])"
            ]
          },
          "metadata": {
            "tags": []
          },
          "execution_count": 33
        }
      ]
    },
    {
      "cell_type": "code",
      "metadata": {
        "id": "7twls4sy6o4P",
        "colab_type": "code",
        "outputId": "e5b23200-6771-4aec-e7a5-1ec8b8663f6a",
        "colab": {
          "base_uri": "https://localhost:8080/",
          "height": 268
        }
      },
      "source": [
        "plt.imshow(out3[0,0,:,:].detach().numpy())\n",
        "plt.show()"
      ],
      "execution_count": 34,
      "outputs": [
        {
          "output_type": "display_data",
          "data": {
            "image/png": "[encoded data removed]",
            "text/plain": [
              "<Figure size 432x288 with 1 Axes>"
            ]
          },
          "metadata": {
            "tags": []
          }
        }
      ]
    },
    {
      "cell_type": "code",
      "metadata": {
        "id": "zXSS-slL6zNn",
        "colab_type": "code",
        "colab": {}
      },
      "source": [
        "#lenet\n",
        "class FirstCNN_v4(nn.Module):\n",
        "  def __init__(self):\n",
        "    super(FirstCNN_v4,self).__init__()\n",
        "    self.cnn1=nn.Sequential(nn.Conv2d(3,6,5),\n",
        "                             nn.Tanh(),\n",
        "                             nn.AvgPool2d(2,stride=2),\n",
        "                             \n",
        "                             nn.Conv2d(6,16,5),\n",
        "                             nn.Tanh(),\n",
        "                            nn.AvgPool2d(2,stride=2))#padding=(1,1) stride=(2,2)\n",
        "    #flattened layer\n",
        "    self.fc_model=nn.Sequential(nn.Linear(400,120),\n",
        "                               nn.Tanh(),\n",
        "                               nn.Linear(120,84),\n",
        "                               nn.Tanh(),\n",
        "                               nn.Linear(84,10))\n",
        "    \n",
        "  def forward(self,x):\n",
        "    print(x.shape)\n",
        "    x=self.cnn1(x)\n",
        "    print(x.shape)\n",
        "    x=x.view(x.size(0),-1)\n",
        "    print(x.shape)\n",
        "    x=self.fc_model(x)\n",
        "   \n",
        "    return x\n"
      ],
      "execution_count": 0,
      "outputs": []
    },
    {
      "cell_type": "code",
      "metadata": {
        "id": "Ysa2PI0XB6GV",
        "colab_type": "code",
        "outputId": "8da05439-d42e-4dfd-be7d-2c958110d46b",
        "colab": {
          "base_uri": "https://localhost:8080/",
          "height": 196
        }
      },
      "source": [
        "net4=FirstCNN_v4()\n",
        "out4=net4(images)\n",
        "\n",
        "print(out4)"
      ],
      "execution_count": 36,
      "outputs": [
        {
          "output_type": "stream",
          "text": [
            "torch.Size([4, 3, 32, 32])\n",
            "torch.Size([4, 16, 5, 5])\n",
            "torch.Size([4, 400])\n",
            "tensor([[ 0.0084,  0.1024,  0.0455, -0.0922,  0.0141, -0.0107, -0.0546, -0.1299,\n",
            "          0.0192, -0.0768],\n",
            "        [ 0.0260,  0.0980,  0.0589, -0.0933,  0.0282, -0.0068, -0.0721, -0.1177,\n",
            "         -0.0036, -0.0745],\n",
            "        [ 0.0138,  0.0814,  0.0438, -0.1185,  0.0190,  0.0095, -0.0331, -0.1396,\n",
            "          0.0281, -0.1006],\n",
            "        [ 0.0159,  0.1009,  0.0476, -0.0941,  0.0117, -0.0090, -0.0467, -0.1280,\n",
            "          0.0119, -0.0888]], grad_fn=<AddmmBackward>)\n"
          ],
          "name": "stdout"
        }
      ]
    },
    {
      "cell_type": "code",
      "metadata": {
        "id": "Kw22GhzzJM-G",
        "colab_type": "code",
        "outputId": "4e8d46ed-1db5-478a-8b8c-f51825a61408",
        "colab": {
          "base_uri": "https://localhost:8080/",
          "height": 33
        }
      },
      "source": [
        "max_values, pred_class = torch.max(out4.data, 1)\n",
        "print(pred_class)"
      ],
      "execution_count": 37,
      "outputs": [
        {
          "output_type": "stream",
          "text": [
            "tensor([1, 1, 1, 1])\n"
          ],
          "name": "stdout"
        }
      ]
    },
    {
      "cell_type": "markdown",
      "metadata": {
        "id": "qIXjEQ2lSGDp",
        "colab_type": "text"
      },
      "source": [
        "Training **cnn**"
      ]
    },
    {
      "cell_type": "code",
      "metadata": {
        "id": "E2N8I5XTkxHu",
        "colab_type": "code",
        "colab": {}
      },
      "source": [
        "class LeNet(nn.Module):\n",
        "    def __init__(self): \n",
        "        super(LeNet, self).__init__()\n",
        "        self.cnn_model = nn.Sequential(\n",
        "            nn.Conv2d(3, 6, 5),         # (N, 3, 32, 32) -> (N,  6, 28, 28)\n",
        "            nn.Tanh(),\n",
        "            nn.AvgPool2d(2, stride=2),  # (N, 6, 28, 28) -> (N,  6, 14, 14)\n",
        "            nn.Conv2d(6, 16, 5),        # (N, 6, 14, 14) -> (N, 16, 10, 10)  \n",
        "            nn.Tanh(),\n",
        "            nn.AvgPool2d(2, stride=2)   # (N,16, 10, 10) -> (N, 16, 5, 5)\n",
        "        )\n",
        "        self.fc_model = nn.Sequential(\n",
        "            nn.Linear(400,120),         # (N, 400) -> (N, 120)\n",
        "            nn.Tanh(),\n",
        "            nn.Linear(120,84),          # (N, 120) -> (N, 84)\n",
        "            nn.Tanh(),\n",
        "            nn.Linear(84,10)            # (N, 84)  -> (N, 10)\n",
        "        )\n",
        "        \n",
        "    def forward(self, x):\n",
        "        x = self.cnn_model(x)\n",
        "        x = x.view(x.size(0), -1)\n",
        "        x = self.fc_model(x)\n",
        "        return x"
      ],
      "execution_count": 0,
      "outputs": []
    },
    {
      "cell_type": "code",
      "metadata": {
        "id": "1XmZ-QWhL2kM",
        "colab_type": "code",
        "colab": {
          "base_uri": "https://localhost:8080/",
          "height": 50
        },
        "outputId": "9c6b62b6-1f04-4e46-e852-782cda0b7865"
      },
      "source": [
        "#training lenet\n",
        "batch_size=128\n",
        "trainset = torchvision.datasets.CIFAR10(root='./data', train=True, download=True, transform=transforms.ToTensor())\n",
        "trainloader = torch.utils.data.DataLoader(trainset, batch_size=batch_size, shuffle=True)\n",
        "testset = torchvision.datasets.CIFAR10(root='./data', train=False, download=True, transform=transforms.ToTensor())\n",
        "testloader = torch.utils.data.DataLoader(testset, batch_size=batch_size, shuffle=False)\n"
      ],
      "execution_count": 52,
      "outputs": [
        {
          "output_type": "stream",
          "text": [
            "Files already downloaded and verified\n",
            "Files already downloaded and verified\n"
          ],
          "name": "stdout"
        }
      ]
    },
    {
      "cell_type": "code",
      "metadata": {
        "id": "eZnEDZclTG-N",
        "colab_type": "code",
        "colab": {}
      },
      "source": [
        "def evaluation(dataloader):\n",
        "    total, correct = 0, 0\n",
        "    for data in dataloader:\n",
        "        inputs, labels = data\n",
        "        outputs = net4(inputs)\n",
        "        _, pred = torch.max(outputs.data, 1)\n",
        "        total += labels.size(0)\n",
        "        correct += (pred == labels).sum().item()\n",
        "    return 100 * correct / total"
      ],
      "execution_count": 0,
      "outputs": []
    },
    {
      "cell_type": "code",
      "metadata": {
        "id": "dA8W3xPiZ0AY",
        "colab_type": "code",
        "colab": {}
      },
      "source": [
        "net4=LeNet()"
      ],
      "execution_count": 0,
      "outputs": []
    },
    {
      "cell_type": "code",
      "metadata": {
        "id": "BTNUIXLHZ6-K",
        "colab_type": "code",
        "colab": {}
      },
      "source": [
        "import torch.optim as optim\n",
        "loss_fn=nn.CrossEntropyLoss()\n",
        "opt=optim.Adam(net4.parameters())"
      ],
      "execution_count": 0,
      "outputs": []
    },
    {
      "cell_type": "code",
      "metadata": {
        "id": "a0LnxsXi6Cgt",
        "colab_type": "code",
        "outputId": "e28b0e1f-2305-40d7-b074-0fb8b2871e77",
        "colab": {
          "base_uri": "https://localhost:8080/",
          "height": 561
        }
      },
      "source": [
        "%%time\n",
        "loss_arr = []\n",
        "loss_epoch_arr = []\n",
        "max_epochs = 16\n",
        "\n",
        "for epoch in range(max_epochs):\n",
        "\n",
        "    for i, data in enumerate(trainloader, 0):\n",
        "\n",
        "        inputs, labels = data\n",
        "\n",
        "        opt.zero_grad()\n",
        "\n",
        "        outputs = net4(inputs)\n",
        "        loss = loss_fn(outputs, labels)\n",
        "        loss.backward()\n",
        "        opt.step()\n",
        "        \n",
        "        loss_arr.append(loss.item())\n",
        "        \n",
        "    loss_epoch_arr.append(loss.item())\n",
        "        \n",
        "    print('Epoch: %d/%d, Test acc: %0.2f, Train acc: %0.2f' % (epoch, max_epochs, evaluation(testloader), evaluation(trainloader)))\n",
        "    \n",
        "    \n",
        "plt.plot(loss_epoch_arr)\n",
        "plt.show()"
      ],
      "execution_count": 61,
      "outputs": [
        {
          "output_type": "stream",
          "text": [
            "Epoch: 0/16, Test acc: 38.40, Train acc: 37.91\n",
            "Epoch: 1/16, Test acc: 43.09, Train acc: 43.63\n",
            "Epoch: 2/16, Test acc: 47.93, Train acc: 47.95\n",
            "Epoch: 3/16, Test acc: 49.04, Train acc: 50.19\n",
            "Epoch: 4/16, Test acc: 50.95, Train acc: 52.58\n",
            "Epoch: 5/16, Test acc: 52.25, Train acc: 54.90\n",
            "Epoch: 6/16, Test acc: 52.78, Train acc: 56.38\n",
            "Epoch: 7/16, Test acc: 53.52, Train acc: 57.87\n",
            "Epoch: 8/16, Test acc: 54.09, Train acc: 58.69\n",
            "Epoch: 9/16, Test acc: 54.39, Train acc: 60.38\n",
            "Epoch: 10/16, Test acc: 54.54, Train acc: 60.57\n",
            "Epoch: 11/16, Test acc: 54.95, Train acc: 62.27\n",
            "Epoch: 12/16, Test acc: 55.51, Train acc: 63.19\n",
            "Epoch: 13/16, Test acc: 55.88, Train acc: 64.21\n",
            "Epoch: 14/16, Test acc: 55.18, Train acc: 64.42\n",
            "Epoch: 15/16, Test acc: 56.26, Train acc: 65.12\n"
          ],
          "name": "stdout"
        },
        {
          "output_type": "display_data",
          "data": {
            "image/png": "[encoded data removed]",
            "text/plain": [
              "<Figure size 432x288 with 1 Axes>"
            ]
          },
          "metadata": {
            "tags": []
          }
        },
        {
          "output_type": "stream",
          "text": [
            "CPU times: user 8min, sys: 15.3 s, total: 8min 16s\n",
            "Wall time: 8min 17s\n"
          ],
          "name": "stdout"
        }
      ]
    },
    {
      "cell_type": "code",
      "metadata": {
        "id": "PYZd8OiPjMws",
        "colab_type": "code",
        "colab": {
          "base_uri": "https://localhost:8080/",
          "height": 33
        },
        "outputId": "831465f0-af28-4129-9e32-22f51e4f2221"
      },
      "source": [
        "print('Test acc: %0.2f, Train acc: %0.2f' % (evaluation(testloader), evaluation(trainloader)))"
      ],
      "execution_count": 63,
      "outputs": [
        {
          "output_type": "stream",
          "text": [
            "Test acc: 56.26, Train acc: 65.12\n"
          ],
          "name": "stdout"
        }
      ]
    },
    {
      "cell_type": "code",
      "metadata": {
        "id": "-8iDeXVMuoXE",
        "colab_type": "code",
        "colab": {}
      },
      "source": [
        ""
      ],
      "execution_count": 0,
      "outputs": []
    }
  ]
}